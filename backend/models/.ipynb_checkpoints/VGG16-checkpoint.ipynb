{
 "cells": [
  {
   "cell_type": "markdown",
   "id": "c1df52f6fb7def74",
   "metadata": {
    "collapsed": false
   },
   "source": [
    "#VGG"
   ]
  },
  {
   "cell_type": "markdown",
   "id": "21417362",
   "metadata": {},
   "source": [
    "#VGG"
   ]
  },
  {
   "cell_type": "markdown",
   "id": "2ac146dacc20804",
   "metadata": {
    "collapsed": false
   },
   "source": [
    "##VGG model "
   ]
  }
 ],
 "metadata": {
  "kernelspec": {
   "display_name": "Python 3",
   "language": "python",
   "name": "python3"
  },
  "language_info": {
   "codemirror_mode": {
    "name": "ipython",
    "version": 2
   },
   "file_extension": ".py",
   "mimetype": "text/x-python",
   "name": "python",
   "nbconvert_exporter": "python",
   "pygments_lexer": "ipython2",
   "version": "2.7.6"
  }
 },
 "nbformat": 4,
 "nbformat_minor": 5
}
