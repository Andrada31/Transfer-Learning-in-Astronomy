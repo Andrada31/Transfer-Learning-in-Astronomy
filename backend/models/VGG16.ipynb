{
 "cells": [
  {
   "cell_type": "markdown",
   "id": "8ef039cf5d3cde8a",
   "metadata": {
    "collapsed": false
   },
   "source": [
    "# VGG16 model"
   ]
  },
  {
   "cell_type": "code",
   "execution_count": 4,
   "id": "56a70df6-f6bd-4044-9e09-57cfc3d7169f",
   "metadata": {
    "ExecuteTime": {
     "end_time": "2025-03-10T20:03:00.607520Z",
     "start_time": "2025-03-10T20:02:49.812761Z"
    }
   },
   "outputs": [],
   "source": [
    "import keras"
   ]
  },
  {
   "cell_type": "code",
   "execution_count": 5,
   "id": "9a7d1b42b9fcb374",
   "metadata": {
    "collapsed": false,
    "ExecuteTime": {
     "end_time": "2025-03-10T20:03:07.429694Z",
     "start_time": "2025-03-10T20:03:04.407767Z"
    }
   },
   "outputs": [],
   "source": [
    "model = keras.applications.VGG16(\n",
    "    include_top=True,\n",
    "    weights=\"imagenet\",\n",
    "    input_tensor=None,\n",
    "    input_shape=None,\n",
    "    pooling=None,\n",
    "    classes=1000,\n",
    "    classifier_activation=\"softmax\",\n",
    "    name=\"vgg16\",\n",
    ")"
   ]
  }
 ],
 "metadata": {
  "kernelspec": {
   "display_name": "Python 3 (ipykernel)",
   "language": "python",
   "name": "python3"
  },
  "language_info": {
   "codemirror_mode": {
    "name": "ipython",
    "version": 3
   },
   "file_extension": ".py",
   "mimetype": "text/x-python",
   "name": "python",
   "nbconvert_exporter": "python",
   "pygments_lexer": "ipython3",
   "version": "3.12.0"
  }
 },
 "nbformat": 4,
 "nbformat_minor": 5
}
